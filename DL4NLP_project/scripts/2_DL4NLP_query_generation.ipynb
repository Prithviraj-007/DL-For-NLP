{
  "nbformat": 4,
  "nbformat_minor": 0,
  "metadata": {
    "colab": {
      "provenance": []
    },
    "kernelspec": {
      "name": "python3",
      "display_name": "Python 3"
    },
    "language_info": {
      "name": "python"
    }
  },
  "cells": [
    {
      "cell_type": "code",
      "source": [
        "!pip install -q -U google-generativeai"
      ],
      "metadata": {
        "colab": {
          "base_uri": "https://localhost:8080/"
        },
        "id": "uyW12gwsl-ac",
        "outputId": "2ec2626f-ae38-4d26-9933-7b341ff9deab"
      },
      "execution_count": null,
      "outputs": [
        {
          "output_type": "stream",
          "name": "stdout",
          "text": [
            "\u001b[?25l   \u001b[90m━━━━━━━━━━━━━━━━━━━━━━━━━━━━━━━━━━━━━━━━\u001b[0m \u001b[32m0.0/142.1 kB\u001b[0m \u001b[31m?\u001b[0m eta \u001b[36m-:--:--\u001b[0m\r\u001b[2K   \u001b[90m━━━━━━━━━━━━━━━━━━━━━━━━━━━━━━━━━━━━━━━━\u001b[0m \u001b[32m142.1/142.1 kB\u001b[0m \u001b[31m4.0 MB/s\u001b[0m eta \u001b[36m0:00:00\u001b[0m\n",
            "\u001b[?25h\u001b[?25l   \u001b[90m━━━━━━━━━━━━━━━━━━━━━━━━━━━━━━━━━━━━━━━━\u001b[0m \u001b[32m0.0/663.6 kB\u001b[0m \u001b[31m?\u001b[0m eta \u001b[36m-:--:--\u001b[0m\r\u001b[2K   \u001b[91m━━━━━━━━━━━━━━━━━━━━━━\u001b[0m\u001b[90m╺\u001b[0m\u001b[90m━━━━━━━━━━━━━━━━━\u001b[0m \u001b[32m368.6/663.6 kB\u001b[0m \u001b[31m10.8 MB/s\u001b[0m eta \u001b[36m0:00:01\u001b[0m\r\u001b[2K   \u001b[91m━━━━━━━━━━━━━━━━━━━━━━━━━━━━━━━━━━━━━━━\u001b[0m\u001b[91m╸\u001b[0m \u001b[32m655.4/663.6 kB\u001b[0m \u001b[31m11.1 MB/s\u001b[0m eta \u001b[36m0:00:01\u001b[0m\r\u001b[2K   \u001b[90m━━━━━━━━━━━━━━━━━━━━━━━━━━━━━━━━━━━━━━━━\u001b[0m \u001b[32m663.6/663.6 kB\u001b[0m \u001b[31m9.0 MB/s\u001b[0m eta \u001b[36m0:00:00\u001b[0m\n",
            "\u001b[?25h\u001b[33mWARNING: Running pip as the 'root' user can result in broken permissions and conflicting behaviour with the system package manager. It is recommended to use a virtual environment instead: https://pip.pypa.io/warnings/venv\u001b[0m\u001b[33m\n",
            "\u001b[0m"
          ]
        }
      ]
    },
    {
      "cell_type": "code",
      "source": [
        "import pathlib\n",
        "import textwrap\n",
        "import time\n",
        "\n",
        "import google.generativeai as genai\n",
        "\n",
        "from IPython.display import display\n",
        "from IPython.display import Markdown\n",
        "\n",
        "\n",
        "def to_markdown(text):\n",
        "  text = text.replace('•', '  *')\n",
        "  return Markdown(textwrap.indent(text, '> ', predicate=lambda _: True))"
      ],
      "metadata": {
        "id": "7-jCLblDl-5_"
      },
      "execution_count": null,
      "outputs": []
    },
    {
      "cell_type": "code",
      "source": [
        "# Used to securely store your API key\n",
        "from google.colab import userdata"
      ],
      "metadata": {
        "id": "4P782-TWmGuO"
      },
      "execution_count": null,
      "outputs": []
    },
    {
      "cell_type": "code",
      "source": [
        "GOOGLE_API_KEY=userdata.get('GOOGLE_API_KEY')\n",
        "\n",
        "genai.configure(api_key=GOOGLE_API_KEY)"
      ],
      "metadata": {
        "id": "_baQXZvOmJad"
      },
      "execution_count": null,
      "outputs": []
    },
    {
      "cell_type": "code",
      "source": [
        "for m in genai.list_models():\n",
        "  if 'generateContent' in m.supported_generation_methods:\n",
        "    print(m.name)"
      ],
      "metadata": {
        "colab": {
          "base_uri": "https://localhost:8080/",
          "height": 138
        },
        "id": "VCxhaNGQmPjk",
        "outputId": "74c645b8-65c8-4a91-e45b-7dffd8f84fd7"
      },
      "execution_count": null,
      "outputs": [
        {
          "output_type": "stream",
          "name": "stdout",
          "text": [
            "models/gemini-1.0-pro\n",
            "models/gemini-1.0-pro-001\n",
            "models/gemini-1.0-pro-latest\n",
            "models/gemini-1.0-pro-vision-latest\n",
            "models/gemini-1.5-pro-latest\n",
            "models/gemini-pro\n",
            "models/gemini-pro-vision\n"
          ]
        }
      ]
    },
    {
      "cell_type": "code",
      "source": [
        "model = genai.GenerativeModel('gemini-pro')"
      ],
      "metadata": {
        "id": "DiXwRJTSnMWb"
      },
      "execution_count": null,
      "outputs": []
    },
    {
      "cell_type": "code",
      "source": [
        "import pandas as pd\n",
        "data = pd.read_csv('/content/Data_for_questioning.csv')"
      ],
      "metadata": {
        "id": "np0zf4l9oLX6"
      },
      "execution_count": null,
      "outputs": []
    },
    {
      "cell_type": "code",
      "source": [
        "# Convert DataFrame to JSON\n",
        "data.to_json('final_data_json.json', orient='records', indent=4)"
      ],
      "metadata": {
        "id": "IUN3o5Lqqolm"
      },
      "execution_count": null,
      "outputs": []
    },
    {
      "cell_type": "code",
      "source": [
        "import json\n",
        "# Open the JSON file and load its contents\n",
        "with open('/content/final_data_json.json', 'r') as f:\n",
        "    data_json = json.load(f)"
      ],
      "metadata": {
        "id": "NCuctSpSqrq9"
      },
      "execution_count": null,
      "outputs": []
    },
    {
      "cell_type": "code",
      "source": [
        "data_json[0]"
      ],
      "metadata": {
        "colab": {
          "base_uri": "https://localhost:8080/"
        },
        "id": "VMTPjuTJrTyq",
        "outputId": "16f129f3-a624-4ea7-bf5a-61ec13bca6f8"
      },
      "execution_count": null,
      "outputs": [
        {
          "output_type": "execute_result",
          "data": {
            "text/plain": [
              "{'objectName': 'Chess set',\n",
              " 'title': 'Chess set',\n",
              " 'artistDisplayName': None,\n",
              " 'objectDate': 'ca. 1800',\n",
              " 'medium': 'Lacquered wood, ivory',\n",
              " 'dimensions': 'Board: 1 3/4 x 16 5/8 x 16 5/8 in. (4.4 x 42.2 x 42.2 cm)',\n",
              " 'city': None,\n",
              " 'classification': None,\n",
              " 'description': 'The game of chess probably originated in India, where ivory chess pieces have been found dating as far back as the eighth century. This set and board were made for the Western market but are distinguished from the majority of export pieces by their exquisitely intricate carving. The use of red and white figures instead of black and white is characteristic of sets produced in India.'}"
            ]
          },
          "metadata": {},
          "execution_count": 34
        }
      ]
    },
    {
      "cell_type": "code",
      "source": [
        "art_texts = []\n",
        "i = 0\n",
        "\n",
        "for data in data_json:\n",
        "  prompt = f\"Following is the description and meta data of an art. Based on this generate 4 questions and corresponding answer. Denote each question as **Question and answer as **Answer. {data}\"\n",
        "  response = model.generate_content(prompt)\n",
        "  art_texts.append(response.text)\n",
        "  # time.sleep(2)\n",
        "  i += 1\n",
        "  if i==60:\n",
        "    print(\"60 completed\")\n",
        "    i=0\n",
        "    time.sleep(10)\n"
      ],
      "metadata": {
        "colab": {
          "base_uri": "https://localhost:8080/",
          "height": 173
        },
        "id": "KZ1DKym-sa1q",
        "outputId": "1c3356d8-e169-4a37-a984-73c6188184dd"
      },
      "execution_count": null,
      "outputs": [
        {
          "output_type": "stream",
          "name": "stdout",
          "text": [
            "60 completed\n",
            "60 completed\n",
            "60 completed\n",
            "60 completed\n",
            "60 completed\n",
            "60 completed\n",
            "60 completed\n",
            "60 completed\n",
            "60 completed\n"
          ]
        }
      ]
    },
    {
      "cell_type": "code",
      "source": [
        "len(art_texts)"
      ],
      "metadata": {
        "colab": {
          "base_uri": "https://localhost:8080/"
        },
        "id": "yQoqNhlmKpPM",
        "outputId": "ce40e107-0909-4337-cbcd-7df73c3c7955"
      },
      "execution_count": null,
      "outputs": [
        {
          "output_type": "execute_result",
          "data": {
            "text/plain": [
              "575"
            ]
          },
          "metadata": {},
          "execution_count": 120
        }
      ]
    },
    {
      "cell_type": "code",
      "source": [
        "to_markdown(art_texts[2])"
      ],
      "metadata": {
        "colab": {
          "base_uri": "https://localhost:8080/",
          "height": 184
        },
        "id": "VozaewSGB7qq",
        "outputId": "003f9261-04a3-4fc5-9e07-20c22d528b5a"
      },
      "execution_count": null,
      "outputs": [
        {
          "output_type": "execute_result",
          "data": {
            "text/plain": [
              "<IPython.core.display.Markdown object>"
            ],
            "text/markdown": "> **Question 1:** What is the material and technique used in the creation of this art?\n> **Answer:** Green glass, cut and inlaid with gold\n> \n> **Question 2:** When was the art piece created?\n> **Answer:** Early 19th century\n> \n> **Question 3:** What are the dimensions of the art?\n> **Answer:** H. 7 1/2 in. (19.1 cm), Diam. 6 1/4 in. (15.9 cm)\n> \n> **Question 4:** What is the significance of this art in the museum's collection?\n> **Answer:** It bridges two important parts of the collection: Indian decorative arts and objects evidencing cultural exchange with Europe in the eighteenth and nineteenth centuries."
          },
          "metadata": {},
          "execution_count": 111
        }
      ]
    },
    {
      "cell_type": "code",
      "source": [
        "# Extracts questions and answers\n",
        "def extract_qa_pairs(text):\n",
        "\n",
        "  qa_pairs = {}\n",
        "  current_q = 1\n",
        "  current_a = 1\n",
        "\n",
        "  for line in text.splitlines():\n",
        "    if line.startswith(\"**Question\"):\n",
        "      qa_pairs[f\"Question{current_q}\"] = line.strip().split(\":\", 1)[1].strip(\"**\")  # Extract question\n",
        "      current_q += 1\n",
        "    elif line.startswith((\"**Answer\", \"Answer\")):\n",
        "      qa_pairs[f\"Answer{current_a}\"] = line.strip().split(\":\", 1)[1].strip(\"**\")  # Extract answer\n",
        "      current_a += 1\n",
        "\n",
        "  return qa_pairs"
      ],
      "metadata": {
        "id": "BlOA5UMtt8br"
      },
      "execution_count": null,
      "outputs": []
    },
    {
      "cell_type": "code",
      "source": [
        "# Create an empty DataFrame with 4 questions and answers\n",
        "df = pd.DataFrame(columns=[\"Question1\", \"Answer1\", \"Question2\", \"Answer2\", \"Question3\", \"Answer3\", \"Question4\", \"Answer4\"])"
      ],
      "metadata": {
        "id": "Czv0SCqzv4Nb"
      },
      "execution_count": null,
      "outputs": []
    },
    {
      "cell_type": "code",
      "source": [
        "# Loop through each art text\n",
        "t = 0\n",
        "for art_text in art_texts:\n",
        "  qa_dict = extract_qa_pairs(art_text)\n",
        "\n",
        "  if len(list(qa_dict.values())) == 8:\n",
        "    # Fill the DataFrame with extracted data\n",
        "    df.loc[len(df)] = list(qa_dict.values())  # Efficiently fill with all values\n",
        "  else:\n",
        "    df.loc[len(df)] = [None]*8\n"
      ],
      "metadata": {
        "id": "Rx-03y2gv-na"
      },
      "execution_count": null,
      "outputs": []
    },
    {
      "cell_type": "code",
      "source": [
        "df"
      ],
      "metadata": {
        "colab": {
          "base_uri": "https://localhost:8080/",
          "height": 1000
        },
        "id": "SItDLqsaP_y4",
        "outputId": "39dfe69d-6b08-43cc-b13f-0f772c266192"
      },
      "execution_count": null,
      "outputs": [
        {
          "output_type": "execute_result",
          "data": {
            "text/plain": [
              "                                             Question1  \\\n",
              "0     What is the material used to create the chess...   \n",
              "1                         What is the name of the art?   \n",
              "2                      What is the name of the object?   \n",
              "3                  What is the object's name and type?   \n",
              "4                  What is the name of the art object?   \n",
              "..                                                 ...   \n",
              "570                 What is the name of the art piece?   \n",
              "571             What is the title of the illustration?   \n",
              "572      Who created the folio and during whose reign?   \n",
              "573                                                      \n",
              "574                       What is the name of the art?   \n",
              "\n",
              "                                               Answer1  \\\n",
              "0                             Lacquered wood and ivory   \n",
              "1                                          Watch stand   \n",
              "2                                           Huqqa Base   \n",
              "3                                Armlet, One of a Pair   \n",
              "4                   Water Container (Ganga-Jumna Lota)   \n",
              "..                                                 ...   \n",
              "570                                              Shawl   \n",
              "571   \"An Old Man and His Young Wife Before Religio...   \n",
              "572   The folio was created during the reign of Emp...   \n",
              "573                                                      \n",
              "574                              Dagger with Yali Hilt   \n",
              "\n",
              "                                             Question2  \\\n",
              "0              When was the chess set likely produced?   \n",
              "1                            When was the art created?   \n",
              "2       What materials were used to create the object?   \n",
              "3                            When was the armlet made?   \n",
              "4                         When was the object created?   \n",
              "..                                                 ...   \n",
              "570             To what century does the Shawl belong?   \n",
              "571             In what year was the painting created?   \n",
              "572   What material and techniques were used to mak...   \n",
              "573                                                      \n",
              "574             What is the classification of the art?   \n",
              "\n",
              "                                               Answer2  \\\n",
              "0                                           Circa 1800   \n",
              "1                                            1800–1820   \n",
              "2                Green glass, cut and inlaid with gold   \n",
              "3                                         19th century   \n",
              "4                                         19th century   \n",
              "..                                                 ...   \n",
              "570                                       19th century   \n",
              "571                                            1610–15   \n",
              "572   Ink, opaque watercolor, and gold on paper wer...   \n",
              "573                                                      \n",
              "574                                     Arms and Armor   \n",
              "\n",
              "                                             Question3  \\\n",
              "0     Where did the game of chess most likely origi...   \n",
              "1       What is the material used to create the stand?   \n",
              "2           What is the approximate age of the object?   \n",
              "3       What materials were used to create the armlet?   \n",
              "4         What materials were used to make the object?   \n",
              "..                                                 ...   \n",
              "570           What material is used to make the Shawl?   \n",
              "571    What technique was used to create the painting?   \n",
              "572   What episode from Islamic history does the fo...   \n",
              "573                                                      \n",
              "574                          When was the art created?   \n",
              "\n",
              "                                               Answer3  \\\n",
              "0                                                India   \n",
              "1                                                Ivory   \n",
              "2                                   Early 19th century   \n",
              "3                              Silver; cast and chased   \n",
              "4                                     Brass and copper   \n",
              "..                                                 ...   \n",
              "570                                               Wool   \n",
              "571               Opaque watercolors and gold on paper   \n",
              "572   The folio depicts the execution of the rebel ...   \n",
              "573                                                      \n",
              "574                                          1800–1850   \n",
              "\n",
              "                                             Question4  \\\n",
              "0     What distinguishes this chess set from other ...   \n",
              "1                    What is the purpose of the stand?   \n",
              "2     How does the object bridge two important part...   \n",
              "3                       Where was the armlet produced?   \n",
              "4               Where was the object most likely made?   \n",
              "..                                                 ...   \n",
              "570   What influenced the popularity of shawls in E...   \n",
              "571                 Who is the artist of the painting?   \n",
              "572   What is the significance of the scene being d...   \n",
              "573                                                      \n",
              "574        What materials were used to create the art?   \n",
              "\n",
              "                                               Answer4  \n",
              "0                    Its exquisitely intricate carving  \n",
              "1                    To display a pocket watch upright  \n",
              "2     It combines decorative floral forms from Indi...  \n",
              "3                     Chennai (Madras), southern India  \n",
              "4                                            Thanjavur  \n",
              "..                                                 ...  \n",
              "570   The sophisticated male dress of the Mughal co...  \n",
              "571                                             Daulat  \n",
              "572   The scene illustrates an episode from the \"Mi...  \n",
              "573                                                     \n",
              "574   Hilt: Ivory; carved and inlaid with glass, ru...  \n",
              "\n",
              "[575 rows x 8 columns]"
            ],
            "text/html": [
              "\n",
              "  <div id=\"df-8de5022a-5f48-4778-8bf6-7f6e782575cc\" class=\"colab-df-container\">\n",
              "    <div>\n",
              "<style scoped>\n",
              "    .dataframe tbody tr th:only-of-type {\n",
              "        vertical-align: middle;\n",
              "    }\n",
              "\n",
              "    .dataframe tbody tr th {\n",
              "        vertical-align: top;\n",
              "    }\n",
              "\n",
              "    .dataframe thead th {\n",
              "        text-align: right;\n",
              "    }\n",
              "</style>\n",
              "<table border=\"1\" class=\"dataframe\">\n",
              "  <thead>\n",
              "    <tr style=\"text-align: right;\">\n",
              "      <th></th>\n",
              "      <th>Question1</th>\n",
              "      <th>Answer1</th>\n",
              "      <th>Question2</th>\n",
              "      <th>Answer2</th>\n",
              "      <th>Question3</th>\n",
              "      <th>Answer3</th>\n",
              "      <th>Question4</th>\n",
              "      <th>Answer4</th>\n",
              "    </tr>\n",
              "  </thead>\n",
              "  <tbody>\n",
              "    <tr>\n",
              "      <th>0</th>\n",
              "      <td>What is the material used to create the chess...</td>\n",
              "      <td>Lacquered wood and ivory</td>\n",
              "      <td>When was the chess set likely produced?</td>\n",
              "      <td>Circa 1800</td>\n",
              "      <td>Where did the game of chess most likely origi...</td>\n",
              "      <td>India</td>\n",
              "      <td>What distinguishes this chess set from other ...</td>\n",
              "      <td>Its exquisitely intricate carving</td>\n",
              "    </tr>\n",
              "    <tr>\n",
              "      <th>1</th>\n",
              "      <td>What is the name of the art?</td>\n",
              "      <td>Watch stand</td>\n",
              "      <td>When was the art created?</td>\n",
              "      <td>1800–1820</td>\n",
              "      <td>What is the material used to create the stand?</td>\n",
              "      <td>Ivory</td>\n",
              "      <td>What is the purpose of the stand?</td>\n",
              "      <td>To display a pocket watch upright</td>\n",
              "    </tr>\n",
              "    <tr>\n",
              "      <th>2</th>\n",
              "      <td>What is the name of the object?</td>\n",
              "      <td>Huqqa Base</td>\n",
              "      <td>What materials were used to create the object?</td>\n",
              "      <td>Green glass, cut and inlaid with gold</td>\n",
              "      <td>What is the approximate age of the object?</td>\n",
              "      <td>Early 19th century</td>\n",
              "      <td>How does the object bridge two important part...</td>\n",
              "      <td>It combines decorative floral forms from Indi...</td>\n",
              "    </tr>\n",
              "    <tr>\n",
              "      <th>3</th>\n",
              "      <td>What is the object's name and type?</td>\n",
              "      <td>Armlet, One of a Pair</td>\n",
              "      <td>When was the armlet made?</td>\n",
              "      <td>19th century</td>\n",
              "      <td>What materials were used to create the armlet?</td>\n",
              "      <td>Silver; cast and chased</td>\n",
              "      <td>Where was the armlet produced?</td>\n",
              "      <td>Chennai (Madras), southern India</td>\n",
              "    </tr>\n",
              "    <tr>\n",
              "      <th>4</th>\n",
              "      <td>What is the name of the art object?</td>\n",
              "      <td>Water Container (Ganga-Jumna Lota)</td>\n",
              "      <td>When was the object created?</td>\n",
              "      <td>19th century</td>\n",
              "      <td>What materials were used to make the object?</td>\n",
              "      <td>Brass and copper</td>\n",
              "      <td>Where was the object most likely made?</td>\n",
              "      <td>Thanjavur</td>\n",
              "    </tr>\n",
              "    <tr>\n",
              "      <th>...</th>\n",
              "      <td>...</td>\n",
              "      <td>...</td>\n",
              "      <td>...</td>\n",
              "      <td>...</td>\n",
              "      <td>...</td>\n",
              "      <td>...</td>\n",
              "      <td>...</td>\n",
              "      <td>...</td>\n",
              "    </tr>\n",
              "    <tr>\n",
              "      <th>570</th>\n",
              "      <td>What is the name of the art piece?</td>\n",
              "      <td>Shawl</td>\n",
              "      <td>To what century does the Shawl belong?</td>\n",
              "      <td>19th century</td>\n",
              "      <td>What material is used to make the Shawl?</td>\n",
              "      <td>Wool</td>\n",
              "      <td>What influenced the popularity of shawls in E...</td>\n",
              "      <td>The sophisticated male dress of the Mughal co...</td>\n",
              "    </tr>\n",
              "    <tr>\n",
              "      <th>571</th>\n",
              "      <td>What is the title of the illustration?</td>\n",
              "      <td>\"An Old Man and His Young Wife Before Religio...</td>\n",
              "      <td>In what year was the painting created?</td>\n",
              "      <td>1610–15</td>\n",
              "      <td>What technique was used to create the painting?</td>\n",
              "      <td>Opaque watercolors and gold on paper</td>\n",
              "      <td>Who is the artist of the painting?</td>\n",
              "      <td>Daulat</td>\n",
              "    </tr>\n",
              "    <tr>\n",
              "      <th>572</th>\n",
              "      <td>Who created the folio and during whose reign?</td>\n",
              "      <td>The folio was created during the reign of Emp...</td>\n",
              "      <td>What material and techniques were used to mak...</td>\n",
              "      <td>Ink, opaque watercolor, and gold on paper wer...</td>\n",
              "      <td>What episode from Islamic history does the fo...</td>\n",
              "      <td>The folio depicts the execution of the rebel ...</td>\n",
              "      <td>What is the significance of the scene being d...</td>\n",
              "      <td>The scene illustrates an episode from the \"Mi...</td>\n",
              "    </tr>\n",
              "    <tr>\n",
              "      <th>573</th>\n",
              "      <td></td>\n",
              "      <td></td>\n",
              "      <td></td>\n",
              "      <td></td>\n",
              "      <td></td>\n",
              "      <td></td>\n",
              "      <td></td>\n",
              "      <td></td>\n",
              "    </tr>\n",
              "    <tr>\n",
              "      <th>574</th>\n",
              "      <td>What is the name of the art?</td>\n",
              "      <td>Dagger with Yali Hilt</td>\n",
              "      <td>What is the classification of the art?</td>\n",
              "      <td>Arms and Armor</td>\n",
              "      <td>When was the art created?</td>\n",
              "      <td>1800–1850</td>\n",
              "      <td>What materials were used to create the art?</td>\n",
              "      <td>Hilt: Ivory; carved and inlaid with glass, ru...</td>\n",
              "    </tr>\n",
              "  </tbody>\n",
              "</table>\n",
              "<p>575 rows × 8 columns</p>\n",
              "</div>\n",
              "    <div class=\"colab-df-buttons\">\n",
              "\n",
              "  <div class=\"colab-df-container\">\n",
              "    <button class=\"colab-df-convert\" onclick=\"convertToInteractive('df-8de5022a-5f48-4778-8bf6-7f6e782575cc')\"\n",
              "            title=\"Convert this dataframe to an interactive table.\"\n",
              "            style=\"display:none;\">\n",
              "\n",
              "  <svg xmlns=\"http://www.w3.org/2000/svg\" height=\"24px\" viewBox=\"0 -960 960 960\">\n",
              "    <path d=\"M120-120v-720h720v720H120Zm60-500h600v-160H180v160Zm220 220h160v-160H400v160Zm0 220h160v-160H400v160ZM180-400h160v-160H180v160Zm440 0h160v-160H620v160ZM180-180h160v-160H180v160Zm440 0h160v-160H620v160Z\"/>\n",
              "  </svg>\n",
              "    </button>\n",
              "\n",
              "  <style>\n",
              "    .colab-df-container {\n",
              "      display:flex;\n",
              "      gap: 12px;\n",
              "    }\n",
              "\n",
              "    .colab-df-convert {\n",
              "      background-color: #E8F0FE;\n",
              "      border: none;\n",
              "      border-radius: 50%;\n",
              "      cursor: pointer;\n",
              "      display: none;\n",
              "      fill: #1967D2;\n",
              "      height: 32px;\n",
              "      padding: 0 0 0 0;\n",
              "      width: 32px;\n",
              "    }\n",
              "\n",
              "    .colab-df-convert:hover {\n",
              "      background-color: #E2EBFA;\n",
              "      box-shadow: 0px 1px 2px rgba(60, 64, 67, 0.3), 0px 1px 3px 1px rgba(60, 64, 67, 0.15);\n",
              "      fill: #174EA6;\n",
              "    }\n",
              "\n",
              "    .colab-df-buttons div {\n",
              "      margin-bottom: 4px;\n",
              "    }\n",
              "\n",
              "    [theme=dark] .colab-df-convert {\n",
              "      background-color: #3B4455;\n",
              "      fill: #D2E3FC;\n",
              "    }\n",
              "\n",
              "    [theme=dark] .colab-df-convert:hover {\n",
              "      background-color: #434B5C;\n",
              "      box-shadow: 0px 1px 3px 1px rgba(0, 0, 0, 0.15);\n",
              "      filter: drop-shadow(0px 1px 2px rgba(0, 0, 0, 0.3));\n",
              "      fill: #FFFFFF;\n",
              "    }\n",
              "  </style>\n",
              "\n",
              "    <script>\n",
              "      const buttonEl =\n",
              "        document.querySelector('#df-8de5022a-5f48-4778-8bf6-7f6e782575cc button.colab-df-convert');\n",
              "      buttonEl.style.display =\n",
              "        google.colab.kernel.accessAllowed ? 'block' : 'none';\n",
              "\n",
              "      async function convertToInteractive(key) {\n",
              "        const element = document.querySelector('#df-8de5022a-5f48-4778-8bf6-7f6e782575cc');\n",
              "        const dataTable =\n",
              "          await google.colab.kernel.invokeFunction('convertToInteractive',\n",
              "                                                    [key], {});\n",
              "        if (!dataTable) return;\n",
              "\n",
              "        const docLinkHtml = 'Like what you see? Visit the ' +\n",
              "          '<a target=\"_blank\" href=https://colab.research.google.com/notebooks/data_table.ipynb>data table notebook</a>'\n",
              "          + ' to learn more about interactive tables.';\n",
              "        element.innerHTML = '';\n",
              "        dataTable['output_type'] = 'display_data';\n",
              "        await google.colab.output.renderOutput(dataTable, element);\n",
              "        const docLink = document.createElement('div');\n",
              "        docLink.innerHTML = docLinkHtml;\n",
              "        element.appendChild(docLink);\n",
              "      }\n",
              "    </script>\n",
              "  </div>\n",
              "\n",
              "\n",
              "<div id=\"df-8aa5888e-1ab4-4927-b20d-0f80131c0a71\">\n",
              "  <button class=\"colab-df-quickchart\" onclick=\"quickchart('df-8aa5888e-1ab4-4927-b20d-0f80131c0a71')\"\n",
              "            title=\"Suggest charts\"\n",
              "            style=\"display:none;\">\n",
              "\n",
              "<svg xmlns=\"http://www.w3.org/2000/svg\" height=\"24px\"viewBox=\"0 0 24 24\"\n",
              "     width=\"24px\">\n",
              "    <g>\n",
              "        <path d=\"M19 3H5c-1.1 0-2 .9-2 2v14c0 1.1.9 2 2 2h14c1.1 0 2-.9 2-2V5c0-1.1-.9-2-2-2zM9 17H7v-7h2v7zm4 0h-2V7h2v10zm4 0h-2v-4h2v4z\"/>\n",
              "    </g>\n",
              "</svg>\n",
              "  </button>\n",
              "\n",
              "<style>\n",
              "  .colab-df-quickchart {\n",
              "      --bg-color: #E8F0FE;\n",
              "      --fill-color: #1967D2;\n",
              "      --hover-bg-color: #E2EBFA;\n",
              "      --hover-fill-color: #174EA6;\n",
              "      --disabled-fill-color: #AAA;\n",
              "      --disabled-bg-color: #DDD;\n",
              "  }\n",
              "\n",
              "  [theme=dark] .colab-df-quickchart {\n",
              "      --bg-color: #3B4455;\n",
              "      --fill-color: #D2E3FC;\n",
              "      --hover-bg-color: #434B5C;\n",
              "      --hover-fill-color: #FFFFFF;\n",
              "      --disabled-bg-color: #3B4455;\n",
              "      --disabled-fill-color: #666;\n",
              "  }\n",
              "\n",
              "  .colab-df-quickchart {\n",
              "    background-color: var(--bg-color);\n",
              "    border: none;\n",
              "    border-radius: 50%;\n",
              "    cursor: pointer;\n",
              "    display: none;\n",
              "    fill: var(--fill-color);\n",
              "    height: 32px;\n",
              "    padding: 0;\n",
              "    width: 32px;\n",
              "  }\n",
              "\n",
              "  .colab-df-quickchart:hover {\n",
              "    background-color: var(--hover-bg-color);\n",
              "    box-shadow: 0 1px 2px rgba(60, 64, 67, 0.3), 0 1px 3px 1px rgba(60, 64, 67, 0.15);\n",
              "    fill: var(--button-hover-fill-color);\n",
              "  }\n",
              "\n",
              "  .colab-df-quickchart-complete:disabled,\n",
              "  .colab-df-quickchart-complete:disabled:hover {\n",
              "    background-color: var(--disabled-bg-color);\n",
              "    fill: var(--disabled-fill-color);\n",
              "    box-shadow: none;\n",
              "  }\n",
              "\n",
              "  .colab-df-spinner {\n",
              "    border: 2px solid var(--fill-color);\n",
              "    border-color: transparent;\n",
              "    border-bottom-color: var(--fill-color);\n",
              "    animation:\n",
              "      spin 1s steps(1) infinite;\n",
              "  }\n",
              "\n",
              "  @keyframes spin {\n",
              "    0% {\n",
              "      border-color: transparent;\n",
              "      border-bottom-color: var(--fill-color);\n",
              "      border-left-color: var(--fill-color);\n",
              "    }\n",
              "    20% {\n",
              "      border-color: transparent;\n",
              "      border-left-color: var(--fill-color);\n",
              "      border-top-color: var(--fill-color);\n",
              "    }\n",
              "    30% {\n",
              "      border-color: transparent;\n",
              "      border-left-color: var(--fill-color);\n",
              "      border-top-color: var(--fill-color);\n",
              "      border-right-color: var(--fill-color);\n",
              "    }\n",
              "    40% {\n",
              "      border-color: transparent;\n",
              "      border-right-color: var(--fill-color);\n",
              "      border-top-color: var(--fill-color);\n",
              "    }\n",
              "    60% {\n",
              "      border-color: transparent;\n",
              "      border-right-color: var(--fill-color);\n",
              "    }\n",
              "    80% {\n",
              "      border-color: transparent;\n",
              "      border-right-color: var(--fill-color);\n",
              "      border-bottom-color: var(--fill-color);\n",
              "    }\n",
              "    90% {\n",
              "      border-color: transparent;\n",
              "      border-bottom-color: var(--fill-color);\n",
              "    }\n",
              "  }\n",
              "</style>\n",
              "\n",
              "  <script>\n",
              "    async function quickchart(key) {\n",
              "      const quickchartButtonEl =\n",
              "        document.querySelector('#' + key + ' button');\n",
              "      quickchartButtonEl.disabled = true;  // To prevent multiple clicks.\n",
              "      quickchartButtonEl.classList.add('colab-df-spinner');\n",
              "      try {\n",
              "        const charts = await google.colab.kernel.invokeFunction(\n",
              "            'suggestCharts', [key], {});\n",
              "      } catch (error) {\n",
              "        console.error('Error during call to suggestCharts:', error);\n",
              "      }\n",
              "      quickchartButtonEl.classList.remove('colab-df-spinner');\n",
              "      quickchartButtonEl.classList.add('colab-df-quickchart-complete');\n",
              "    }\n",
              "    (() => {\n",
              "      let quickchartButtonEl =\n",
              "        document.querySelector('#df-8aa5888e-1ab4-4927-b20d-0f80131c0a71 button');\n",
              "      quickchartButtonEl.style.display =\n",
              "        google.colab.kernel.accessAllowed ? 'block' : 'none';\n",
              "    })();\n",
              "  </script>\n",
              "</div>\n",
              "\n",
              "  <div id=\"id_e5295f08-094d-4141-a26a-48b544e7fc5d\">\n",
              "    <style>\n",
              "      .colab-df-generate {\n",
              "        background-color: #E8F0FE;\n",
              "        border: none;\n",
              "        border-radius: 50%;\n",
              "        cursor: pointer;\n",
              "        display: none;\n",
              "        fill: #1967D2;\n",
              "        height: 32px;\n",
              "        padding: 0 0 0 0;\n",
              "        width: 32px;\n",
              "      }\n",
              "\n",
              "      .colab-df-generate:hover {\n",
              "        background-color: #E2EBFA;\n",
              "        box-shadow: 0px 1px 2px rgba(60, 64, 67, 0.3), 0px 1px 3px 1px rgba(60, 64, 67, 0.15);\n",
              "        fill: #174EA6;\n",
              "      }\n",
              "\n",
              "      [theme=dark] .colab-df-generate {\n",
              "        background-color: #3B4455;\n",
              "        fill: #D2E3FC;\n",
              "      }\n",
              "\n",
              "      [theme=dark] .colab-df-generate:hover {\n",
              "        background-color: #434B5C;\n",
              "        box-shadow: 0px 1px 3px 1px rgba(0, 0, 0, 0.15);\n",
              "        filter: drop-shadow(0px 1px 2px rgba(0, 0, 0, 0.3));\n",
              "        fill: #FFFFFF;\n",
              "      }\n",
              "    </style>\n",
              "    <button class=\"colab-df-generate\" onclick=\"generateWithVariable('df')\"\n",
              "            title=\"Generate code using this dataframe.\"\n",
              "            style=\"display:none;\">\n",
              "\n",
              "  <svg xmlns=\"http://www.w3.org/2000/svg\" height=\"24px\"viewBox=\"0 0 24 24\"\n",
              "       width=\"24px\">\n",
              "    <path d=\"M7,19H8.4L18.45,9,17,7.55,7,17.6ZM5,21V16.75L18.45,3.32a2,2,0,0,1,2.83,0l1.4,1.43a1.91,1.91,0,0,1,.58,1.4,1.91,1.91,0,0,1-.58,1.4L9.25,21ZM18.45,9,17,7.55Zm-12,3A5.31,5.31,0,0,0,4.9,8.1,5.31,5.31,0,0,0,1,6.5,5.31,5.31,0,0,0,4.9,4.9,5.31,5.31,0,0,0,6.5,1,5.31,5.31,0,0,0,8.1,4.9,5.31,5.31,0,0,0,12,6.5,5.46,5.46,0,0,0,6.5,12Z\"/>\n",
              "  </svg>\n",
              "    </button>\n",
              "    <script>\n",
              "      (() => {\n",
              "      const buttonEl =\n",
              "        document.querySelector('#id_e5295f08-094d-4141-a26a-48b544e7fc5d button.colab-df-generate');\n",
              "      buttonEl.style.display =\n",
              "        google.colab.kernel.accessAllowed ? 'block' : 'none';\n",
              "\n",
              "      buttonEl.onclick = () => {\n",
              "        google.colab.notebook.generateWithVariable('df');\n",
              "      }\n",
              "      })();\n",
              "    </script>\n",
              "  </div>\n",
              "\n",
              "    </div>\n",
              "  </div>\n"
            ],
            "application/vnd.google.colaboratory.intrinsic+json": {
              "type": "dataframe",
              "variable_name": "df",
              "summary": "{\n  \"name\": \"df\",\n  \"rows\": 575,\n  \"fields\": [\n    {\n      \"column\": \"Question1\",\n      \"properties\": {\n        \"dtype\": \"category\",\n        \"num_unique_values\": 196,\n        \"samples\": [\n          \" What is depicted in the textile fragments?\",\n          \" What is the name of the manuscript that this folio belongs to?\",\n          \" Who is the artist of the illustrated album leaf?\"\n        ],\n        \"semantic_type\": \"\",\n        \"description\": \"\"\n      }\n    },\n    {\n      \"column\": \"Answer1\",\n      \"properties\": {\n        \"dtype\": \"string\",\n        \"num_unique_values\": 427,\n        \"samples\": [\n          \" Cope\",\n          \" Kalamkari, a multistep process of dyeing textiles using a stylus or resists.\",\n          \" \\\"Rustam Lassos Rakhsh\\\", Folio from a Shahnama (Book of Kings)\"\n        ],\n        \"semantic_type\": \"\",\n        \"description\": \"\"\n      }\n    },\n    {\n      \"column\": \"Question2\",\n      \"properties\": {\n        \"dtype\": \"category\",\n        \"num_unique_values\": 280,\n        \"samples\": [\n          \"\",\n          \" What is the artwork's medium?\",\n          \" What material is the bell made of?\"\n        ],\n        \"semantic_type\": \"\",\n        \"description\": \"\"\n      }\n    },\n    {\n      \"column\": \"Answer2\",\n      \"properties\": {\n        \"dtype\": \"string\",\n        \"num_unique_values\": 325,\n        \"samples\": [\n          \" Ink, opaque watercolor, and gold on paper; Height: 12 3/4 in. (32.4 cm), Width: 7 1/2 in. (19.1 cm)\",\n          \" 14th century\",\n          \" Silver; cast and chased\"\n        ],\n        \"semantic_type\": \"\",\n        \"description\": \"\"\n      }\n    },\n    {\n      \"column\": \"Question3\",\n      \"properties\": {\n        \"dtype\": \"string\",\n        \"num_unique_values\": 345,\n        \"samples\": [\n          \" What is believed to be the origin of the manuscript?\",\n          \" What is the size of the artwork?\",\n          \" To what century does the artwork belong?\"\n        ],\n        \"semantic_type\": \"\",\n        \"description\": \"\"\n      }\n    },\n    {\n      \"column\": \"Answer3\",\n      \"properties\": {\n        \"dtype\": \"string\",\n        \"num_unique_values\": 372,\n        \"samples\": [\n          \" By adjusting the tension of the string with a knob.\",\n          \" Adornment and potential use as a weapon\",\n          \" Silk; plain-weave, embroidered with silver-wrapped thread\"\n        ],\n        \"semantic_type\": \"\",\n        \"description\": \"\"\n      }\n    },\n    {\n      \"column\": \"Question4\",\n      \"properties\": {\n        \"dtype\": \"string\",\n        \"num_unique_values\": 482,\n        \"samples\": [\n          \" What is the central inscription on the art piece?\",\n          \" What genre does the art belong to?\",\n          \" What medium was used to create the album leaf?\"\n        ],\n        \"semantic_type\": \"\",\n        \"description\": \"\"\n      }\n    },\n    {\n      \"column\": \"Answer4\",\n      \"properties\": {\n        \"dtype\": \"string\",\n        \"num_unique_values\": 475,\n        \"samples\": [\n          \" As part of an ivory-veneered cabinet, possibly for export to the Netherlands\",\n          \" Baul faith in Bengal\",\n          \" The original use of the Box is unknown, but a similar piece in the collection without a hinge was likely used as a perfume or lime container.\"\n        ],\n        \"semantic_type\": \"\",\n        \"description\": \"\"\n      }\n    }\n  ]\n}"
            }
          },
          "metadata": {},
          "execution_count": 158
        }
      ]
    },
    {
      "cell_type": "code",
      "source": [
        "df.to_csv('QnA.csv', index=False)"
      ],
      "metadata": {
        "id": "fk1OrDOSx3aU"
      },
      "execution_count": null,
      "outputs": []
    },
    {
      "cell_type": "code",
      "source": [],
      "metadata": {
        "id": "tXCXOVIX6yeA"
      },
      "execution_count": null,
      "outputs": []
    },
    {
      "cell_type": "code",
      "source": [
        "!pip install googletrans==3.1.0a0"
      ],
      "metadata": {
        "colab": {
          "base_uri": "https://localhost:8080/"
        },
        "id": "PPf3lKIQ6zIL",
        "outputId": "9b49ed21-1c8a-4923-e225-4e5844f06a7f"
      },
      "execution_count": null,
      "outputs": [
        {
          "output_type": "stream",
          "name": "stdout",
          "text": [
            "Collecting googletrans==3.1.0a0\n",
            "  Downloading googletrans-3.1.0a0.tar.gz (19 kB)\n",
            "  Preparing metadata (setup.py) ... \u001b[?25l\u001b[?25hdone\n",
            "Collecting httpx==0.13.3 (from googletrans==3.1.0a0)\n",
            "  Downloading httpx-0.13.3-py3-none-any.whl (55 kB)\n",
            "\u001b[2K     \u001b[90m━━━━━━━━━━━━━━━━━━━━━━━━━━━━━━━━━━━━━━━━\u001b[0m \u001b[32m55.1/55.1 kB\u001b[0m \u001b[31m1.9 MB/s\u001b[0m eta \u001b[36m0:00:00\u001b[0m\n",
            "\u001b[?25hRequirement already satisfied: certifi in /usr/local/lib/python3.10/dist-packages (from httpx==0.13.3->googletrans==3.1.0a0) (2024.2.2)\n",
            "Collecting hstspreload (from httpx==0.13.3->googletrans==3.1.0a0)\n",
            "  Downloading hstspreload-2024.4.1-py3-none-any.whl (1.1 MB)\n",
            "\u001b[2K     \u001b[90m━━━━━━━━━━━━━━━━━━━━━━━━━━━━━━━━━━━━━━━━\u001b[0m \u001b[32m1.1/1.1 MB\u001b[0m \u001b[31m18.9 MB/s\u001b[0m eta \u001b[36m0:00:00\u001b[0m\n",
            "\u001b[?25hRequirement already satisfied: sniffio in /usr/local/lib/python3.10/dist-packages (from httpx==0.13.3->googletrans==3.1.0a0) (1.3.1)\n",
            "Collecting chardet==3.* (from httpx==0.13.3->googletrans==3.1.0a0)\n",
            "  Downloading chardet-3.0.4-py2.py3-none-any.whl (133 kB)\n",
            "\u001b[2K     \u001b[90m━━━━━━━━━━━━━━━━━━━━━━━━━━━━━━━━━━━━━━━━\u001b[0m \u001b[32m133.4/133.4 kB\u001b[0m \u001b[31m15.6 MB/s\u001b[0m eta \u001b[36m0:00:00\u001b[0m\n",
            "\u001b[?25hCollecting idna==2.* (from httpx==0.13.3->googletrans==3.1.0a0)\n",
            "  Downloading idna-2.10-py2.py3-none-any.whl (58 kB)\n",
            "\u001b[2K     \u001b[90m━━━━━━━━━━━━━━━━━━━━━━━━━━━━━━━━━━━━━━━━\u001b[0m \u001b[32m58.8/58.8 kB\u001b[0m \u001b[31m8.2 MB/s\u001b[0m eta \u001b[36m0:00:00\u001b[0m\n",
            "\u001b[?25hCollecting rfc3986<2,>=1.3 (from httpx==0.13.3->googletrans==3.1.0a0)\n",
            "  Downloading rfc3986-1.5.0-py2.py3-none-any.whl (31 kB)\n",
            "Collecting httpcore==0.9.* (from httpx==0.13.3->googletrans==3.1.0a0)\n",
            "  Downloading httpcore-0.9.1-py3-none-any.whl (42 kB)\n",
            "\u001b[2K     \u001b[90m━━━━━━━━━━━━━━━━━━━━━━━━━━━━━━━━━━━━━━━━\u001b[0m \u001b[32m42.6/42.6 kB\u001b[0m \u001b[31m4.4 MB/s\u001b[0m eta \u001b[36m0:00:00\u001b[0m\n",
            "\u001b[?25hCollecting h11<0.10,>=0.8 (from httpcore==0.9.*->httpx==0.13.3->googletrans==3.1.0a0)\n",
            "  Downloading h11-0.9.0-py2.py3-none-any.whl (53 kB)\n",
            "\u001b[2K     \u001b[90m━━━━━━━━━━━━━━━━━━━━━━━━━━━━━━━━━━━━━━━━\u001b[0m \u001b[32m53.6/53.6 kB\u001b[0m \u001b[31m8.1 MB/s\u001b[0m eta \u001b[36m0:00:00\u001b[0m\n",
            "\u001b[?25hCollecting h2==3.* (from httpcore==0.9.*->httpx==0.13.3->googletrans==3.1.0a0)\n",
            "  Downloading h2-3.2.0-py2.py3-none-any.whl (65 kB)\n",
            "\u001b[2K     \u001b[90m━━━━━━━━━━━━━━━━━━━━━━━━━━━━━━━━━━━━━━━━\u001b[0m \u001b[32m65.0/65.0 kB\u001b[0m \u001b[31m8.8 MB/s\u001b[0m eta \u001b[36m0:00:00\u001b[0m\n",
            "\u001b[?25hCollecting hyperframe<6,>=5.2.0 (from h2==3.*->httpcore==0.9.*->httpx==0.13.3->googletrans==3.1.0a0)\n",
            "  Downloading hyperframe-5.2.0-py2.py3-none-any.whl (12 kB)\n",
            "Collecting hpack<4,>=3.0 (from h2==3.*->httpcore==0.9.*->httpx==0.13.3->googletrans==3.1.0a0)\n",
            "  Downloading hpack-3.0.0-py2.py3-none-any.whl (38 kB)\n",
            "Building wheels for collected packages: googletrans\n",
            "  Building wheel for googletrans (setup.py) ... \u001b[?25l\u001b[?25hdone\n",
            "  Created wheel for googletrans: filename=googletrans-3.1.0a0-py3-none-any.whl size=16353 sha256=fbcc1dfdc33ac517cd3adba39574902f88c38f9cf9b58cdbffcdc887bba4d60a\n",
            "  Stored in directory: /root/.cache/pip/wheels/50/5d/3c/8477d0af4ca2b8b1308812c09f1930863caeebc762fe265a95\n",
            "Successfully built googletrans\n",
            "Installing collected packages: rfc3986, hyperframe, hpack, h11, chardet, idna, hstspreload, h2, httpcore, httpx, googletrans\n",
            "  Attempting uninstall: chardet\n",
            "    Found existing installation: chardet 5.2.0\n",
            "    Uninstalling chardet-5.2.0:\n",
            "      Successfully uninstalled chardet-5.2.0\n",
            "  Attempting uninstall: idna\n",
            "    Found existing installation: idna 3.6\n",
            "    Uninstalling idna-3.6:\n",
            "      Successfully uninstalled idna-3.6\n",
            "Successfully installed chardet-3.0.4 googletrans-3.1.0a0 h11-0.9.0 h2-3.2.0 hpack-3.0.0 hstspreload-2024.4.1 httpcore-0.9.1 httpx-0.13.3 hyperframe-5.2.0 idna-2.10 rfc3986-1.5.0\n"
          ]
        }
      ]
    },
    {
      "cell_type": "code",
      "source": [
        "from googletrans import Translator\n",
        "\n",
        "def translate_hi2en(sentence):\n",
        "  \"\"\"\n",
        "  Function to translate from Hindi to English.\n",
        "\n",
        "  Args:\n",
        "   - sentence: string in Hindi\n",
        "\n",
        "  Returns:\n",
        "   - English translated text string\n",
        "\n",
        "  \"\"\"\n",
        "  translator = Translator()\n",
        "  output = translator.translate(sentence, dest='en', src='hi')\n",
        "  return output.text\n",
        "\n",
        "def translate_en2hi(sentence):\n",
        "  \"\"\"\n",
        "  Function to translate from English to Hindi.\n",
        "\n",
        "  Args:\n",
        "   - sentence: string in English\n",
        "\n",
        "  Returns:\n",
        "   - Hindi translated text string\n",
        "\n",
        "  \"\"\"\n",
        "  translator = Translator()\n",
        "  output = translator.translate(sentence, dest='hi', src='en')\n",
        "  return output.text"
      ],
      "metadata": {
        "id": "J6uQsNbeYn2S"
      },
      "execution_count": null,
      "outputs": []
    },
    {
      "cell_type": "code",
      "source": [
        "sentence = \"How does the object bridge two important parts of a collection?\"\n",
        "\n",
        "translate_en2hi(sentence)"
      ],
      "metadata": {
        "colab": {
          "base_uri": "https://localhost:8080/",
          "height": 35
        },
        "id": "gcQhS8cg6ovL",
        "outputId": "c682c514-dcde-494d-c4f4-dd8a7f2be403"
      },
      "execution_count": null,
      "outputs": [
        {
          "output_type": "execute_result",
          "data": {
            "text/plain": [
              "'वस्तु किसी संग्रह के दो महत्वपूर्ण भागों को कैसे जोड़ती है?'"
            ],
            "application/vnd.google.colaboratory.intrinsic+json": {
              "type": "string"
            }
          },
          "metadata": {},
          "execution_count": 4
        }
      ]
    },
    {
      "cell_type": "code",
      "source": [
        "sentence = \"वस्तु किसी संग्रह के दो महत्वपूर्ण भागों को कैसे जोड़ती है?\"\n",
        "translate_hi2en(sentence)"
      ],
      "metadata": {
        "colab": {
          "base_uri": "https://localhost:8080/",
          "height": 35
        },
        "id": "t3KkwG4y6__S",
        "outputId": "abf73988-a69d-45d9-b664-cd437bbc38e4"
      },
      "execution_count": null,
      "outputs": [
        {
          "output_type": "execute_result",
          "data": {
            "text/plain": [
              "'How does an object connect two important parts of a collection?'"
            ],
            "application/vnd.google.colaboratory.intrinsic+json": {
              "type": "string"
            }
          },
          "metadata": {},
          "execution_count": 5
        }
      ]
    },
    {
      "cell_type": "code",
      "source": [],
      "metadata": {
        "id": "RR3mBTtk7PWO"
      },
      "execution_count": null,
      "outputs": []
    }
  ]
}