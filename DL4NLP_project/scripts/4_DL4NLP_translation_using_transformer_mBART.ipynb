{
  "cells": [
    {
      "cell_type": "code",
      "execution_count": 9,
      "metadata": {
        "id": "iqowuJB3vOTo"
      },
      "outputs": [],
      "source": [
        "from transformers import MBartForConditionalGeneration, MBart50TokenizerFast\n",
        "\n",
        "# Load model and tokenizer outside the function\n",
        "model_name = \"facebook/mbart-large-50-many-to-many-mmt\"\n",
        "model = MBartForConditionalGeneration.from_pretrained(model_name)\n",
        "tokenizer = MBart50TokenizerFast.from_pretrained(model_name)"
      ]
    },
    {
      "cell_type": "code",
      "execution_count": 10,
      "metadata": {
        "id": "7b2I4BM1zAWe"
      },
      "outputs": [],
      "source": [
        "def translate(text, source_lang, target_lang):\n",
        "\n",
        "  # Set source language\n",
        "  tokenizer.src_lang = source_lang\n",
        "\n",
        "  # Encode the text\n",
        "  encoded_text = tokenizer(text, return_tensors=\"pt\")\n",
        "\n",
        "  # Force target language token\n",
        "  forced_bos_token_id = tokenizer.lang_code_to_id[target_lang]\n",
        "\n",
        "  # Generate the translation\n",
        "  generated_tokens = model.generate(**encoded_text, forced_bos_token_id=forced_bos_token_id)\n",
        "\n",
        "  # Decode the translation\n",
        "  translation = tokenizer.batch_decode(generated_tokens, skip_special_tokens=True)[0]\n",
        "\n",
        "  return translation"
      ]
    },
    {
      "cell_type": "code",
      "execution_count": 11,
      "metadata": {
        "colab": {
          "base_uri": "https://localhost:8080/"
        },
        "id": "7XqDCT8yzp0U",
        "outputId": "f821b8ba-cba4-4a56-f7ab-0f0fcde4ee04"
      },
      "outputs": [
        {
          "name": "stdout",
          "output_type": "stream",
          "text": [
            "If we look at Hindi literature from a proper perspective, it is clear that the history of Hindi literature is very extensive and ancient. In the words of the famous linguist Dr. Hardev Externi, the history of Hindi literature actually dates back to the Vedic period. It is right to say that the Vedic language is Hindi. This language has been unfortunately changing its name over the centuries. Sometimes it is called 'Vedic', sometimes it is called 'Sanskrit', sometimes it is called 'Prakrit', sometimes it is called 'Upभ्रंश' and now it is called 'Hindi'. [1] Critics may say that 'Vedic Sanskrit' and 'Hindi' have a difference of land - level. It is worth noting that the languages referred to as'very ancient' also have a difference of land - level in their ancient and present forms; but people have not changed\n",
            "अंग्रेजी साहित्य, सातवीं शताब्दी से लेकर आज तक ब्रिटिश द्वीपों के निवासियों द्वारा अंग्रेज़ी भाषा में उत्पादित लिखित कृतियों का निकाय है. ब्रिटिश द्वीपों के बाहर अंग्रेजी में लिखा गया प्रमुख साहित्य अमेरिका, ऑस्ट्रेलियाई साहित्य, कनाडा साहित्य और न्यूजीलैंड साहित्य के अंतर्गत अलग-अलग माना जाता है. अंग्रेजी साहित्य को कभी-कभी द्वीपीय के रूप में घृणित किया जाता है. यह तर्क किया जा सकता है कि कोई भी अंग्रेजी उपन्यास रूसी लेखक लियो टॉल्सटोय के युद्ध और शांति या फ्रांसीसी लेखक गुस्टफ फ्लुबेर के माडम बोवरी की वैश्विकता को प्राप्त नहीं करता है. फिर भी मध्ययुग में अधीनस्थ सॉक्सों के पुराने अंग्रेजी साहित्य को लैटिन और अंग्रेज़ी-नॉर्मन के लेखन द्वारा छोड़ दिया गया, जिसमें चर्च के लोग और नॉर्मन विजेता अपने-आपको व्यक्त करते थे. इस संयोजन\n"
          ]
        }
      ],
      "source": [
        "# Example usage\n",
        "hindi_text = \"हिन्दी साहित्य पर अगर समुचित परिप्रेक्ष्य में विचार किया जाए तो स्पष्ट होता है कि हिन्दी साहित्य का इतिहास अत्यन्त विस्तृत व प्राचीन है। सुप्रसिद्ध भाषा वैज्ञानिक डॉ० हरदेव बाहरी के शब्दों में, हिन्दी साहित्य का इतिहास वस्तुतः वैदिक काल से आरम्भ होता है। यह कहना ही ठीक होगा कि वैदिक भाषा ही हिन्दी है। इस भाषा का दुर्भाग्य रहा है कि युग-युग में इसका नाम परिवर्तित होता रहा है। कभी 'वैदिक', कभी 'संस्कृत', कभी 'प्राकृत', कभी'अपभ्रंश' और अब - हिन्दी।[1] आलोचक कह सकते हैं कि 'वैदिक संस्कृत' और 'हिन्दी' में तो जमीन-आसमान का अन्तर है। पर ध्यान देने योग्य है कि हिब्रू, रूसी, चीनी, जर्मन और तमिल आदि जिन भाषाओं को 'बहुत पुरानी' बताया जाता है, उनके भी प्राचीन और वर्तमान रूपों में जमीन-आसमान का अन्तर है; पर लोगों ने उन भाषाओं के नाम नहीं बदले और उनके परिवर्तित स्वरूपों को 'प्राचीन', 'मध्यकालीन', 'आधुनिक' आदि कहा गया, जबकि 'हिन्दी' के सन्दर्भ में प्रत्येक युग की भाषा का नया नाम रखा जाता रहा।\"\n",
        "english_translation = translate(hindi_text, \"hi_IN\", \"en_XX\")\n",
        "print(english_translation)\n",
        "\n",
        "english_text = \"English literature, the body of written works produced in the English language by inhabitants of the British Isles (including Ireland) from the 7th century to the present day. The major literatures written in English outside the British Isles are treated separately under American literature, Australian literature, Canadian literature, and New Zealand literature. English literature has sometimes been stigmatized as insular. It can be argued that no single English novel attains the universality of the Russian writer Leo Tolstoy’s War and Peace or the French writer Gustave Flaubert’s Madame Bovary. Yet in the Middle Ages the Old English literature of the subjugated Saxons was leavened by the Latin and Anglo-Norman writings, eminently foreign in origin, in which the churchmen and the Norman conquerors expressed themselves. From this combination emerged a flexible and subtle linguistic instrument exploited by Geoffrey Chaucer and brought to supreme application by William Shakespeare. During the Renaissance the renewed interest in Classical learning and values had an important effect on English literature, as on all the arts; and ideas of Augustan literary propriety in the 18th century and reverence in the 19th century for a less specific, though still selectively viewed, Classical antiquity continued to shape the literature. All three of these impulses derived from a foreign source, namely the Mediterranean basin. The Decadents of the late 19th century and the Modernists of the early 20th looked to continental European individuals and movements for inspiration. Nor was attraction toward European intellectualism dead in the late 20th century, for by the mid-1980s the approach known as structuralism, a phenomenon predominantly French and German in origin, infused the very study of English literature itself in a host of published critical studies and university departments. Additional influence was exercised by deconstructionist analysis, based largely on the work of French philosopher Jacques Derrida.\"\n",
        "hindi_translation = translate(english_text, \"en_XX\", \"hi_IN\")\n",
        "print(hindi_translation) "
      ]
    }
  ],
  "metadata": {
    "colab": {
      "provenance": []
    },
    "kernelspec": {
      "display_name": "Python 3",
      "name": "python3"
    },
    "language_info": {
      "name": "python"
    }
  },
  "nbformat": 4,
  "nbformat_minor": 0
}
